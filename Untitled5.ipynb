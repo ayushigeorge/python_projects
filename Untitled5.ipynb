{
 "cells": [
  {
   "cell_type": "markdown",
   "id": "dd698ee3",
   "metadata": {},
   "source": [
    "# Day 2 of 100 days of code\n",
    "sets in python"
   ]
  },
  {
   "cell_type": "markdown",
   "id": "ac4d1b9b",
   "metadata": {},
   "source": [
    "sets are the collection of unordered and unindexed things.\n",
    "it doesnt have any individual value.\n"
   ]
  },
  {
   "cell_type": "markdown",
   "id": "43f44446",
   "metadata": {},
   "source": [
    " IT gives Randomize array in output\n",
    " and TAKES EXACTLY ONE OUTPUT"
   ]
  },
  {
   "cell_type": "code",
   "execution_count": 7,
   "id": "bfa8e73b",
   "metadata": {},
   "outputs": [
    {
     "name": "stdout",
     "output_type": "stream",
     "text": [
      "\n",
      " HELLO:\n",
      "{'i', 's', 'h', 'A', 'u', 'y'}\n"
     ]
    }
   ],
   "source": [
    "me = set(\"Ayushi\")\n",
    "print(\"\\n HELLO:\")\n",
    "print (me)"
   ]
  },
  {
   "cell_type": "markdown",
   "id": "c8a0d5e5",
   "metadata": {},
   "source": [
    "# Methods\n"
   ]
  },
  {
   "cell_type": "markdown",
   "id": "b3319c15",
   "metadata": {},
   "source": [
    "first  = .add()  to add new element\n",
    "\n",
    "second = .discard() to delete a element"
   ]
  },
  {
   "cell_type": "code",
   "execution_count": 11,
   "id": "ba8253b5",
   "metadata": {},
   "outputs": [
    {
     "name": "stdout",
     "output_type": "stream",
     "text": [
      "{'a', 't', 'h', 'p', 'e', 'op', 'l', 'b'}\n"
     ]
    }
   ],
   "source": [
    "eng = set(\"alphabet\")\n",
    "eng.add(\"op\")\n",
    "print(eng)"
   ]
  },
  {
   "cell_type": "code",
   "execution_count": 16,
   "id": "6fe0bafa",
   "metadata": {},
   "outputs": [
    {
     "name": "stdout",
     "output_type": "stream",
     "text": [
      "{'i', ' ', 's', 'h', 'j', 'f', 'y', 'e'}\n"
     ]
    }
   ],
   "source": [
    "hi = set(\"jelly fish\")\n",
    "hi.discard(\"l\")\n",
    "print(hi)"
   ]
  },
  {
   "cell_type": "code",
   "execution_count": null,
   "id": "f7caf8bf",
   "metadata": {},
   "outputs": [],
   "source": []
  }
 ],
 "metadata": {
  "kernelspec": {
   "display_name": "Python 3",
   "language": "python",
   "name": "python3"
  },
  "language_info": {
   "codemirror_mode": {
    "name": "ipython",
    "version": 3
   },
   "file_extension": ".py",
   "mimetype": "text/x-python",
   "name": "python",
   "nbconvert_exporter": "python",
   "pygments_lexer": "ipython3",
   "version": "3.8.8"
  }
 },
 "nbformat": 4,
 "nbformat_minor": 5
}

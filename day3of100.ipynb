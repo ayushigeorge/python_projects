{
 "cells": [
  {
   "cell_type": "markdown",
   "id": "4f0e0eb9",
   "metadata": {},
   "source": [
    "# Day 3 of 100\n",
    "Dictionary in python\n"
   ]
  },
  {
   "cell_type": "markdown",
   "id": "c2dc0ac0",
   "metadata": {},
   "source": [
    "dictionary is a collection of indexed, ordered of strings, array, etc."
   ]
  },
  {
   "cell_type": "markdown",
   "id": "bcd2825d",
   "metadata": {},
   "source": [
    "its a Map where key and its value are stored "
   ]
  },
  {
   "cell_type": "markdown",
   "id": "1baa4661",
   "metadata": {},
   "source": [
    "It has four methods \n",
    ".get()\n",
    ".keys()\n",
    ".values()\n",
    ".item()"
   ]
  },
  {
   "cell_type": "code",
   "execution_count": 19,
   "id": "e65bbc36",
   "metadata": {},
   "outputs": [
    {
     "name": "stdout",
     "output_type": "stream",
     "text": [
      "Present Group of Class\n",
      "Kesia\n",
      "dict_keys([1, 2, 3, 4, 5, 6])\n",
      "dict_values(['Ayushi', 'Alisha', 'Anglyn', 'Aditi', 'Kesia', 'Ditty'])\n",
      "dict_items([(1, 'Ayushi'), (2, 'Alisha'), (3, 'Anglyn'), (4, 'Aditi'), (5, 'Kesia'), (6, 'Ditty')])\n"
     ]
    }
   ],
   "source": [
    "print(\"Present Group of Class\")\n",
    "dict ={ 1:'Ayushi', 2: 'Alisha', 3: 'Anglyn', 4: 'Aditi', 5: 'Kesia', 6: 'Ditty'}\n",
    "print(dict.get(5))\n",
    "print(dict.keys())\n",
    "print(dict.values())\n",
    "print(dict.items())"
   ]
  },
  {
   "cell_type": "code",
   "execution_count": null,
   "id": "ef0cf02d",
   "metadata": {},
   "outputs": [],
   "source": []
  }
 ],
 "metadata": {
  "kernelspec": {
   "display_name": "Python 3",
   "language": "python",
   "name": "python3"
  },
  "language_info": {
   "codemirror_mode": {
    "name": "ipython",
    "version": 3
   },
   "file_extension": ".py",
   "mimetype": "text/x-python",
   "name": "python",
   "nbconvert_exporter": "python",
   "pygments_lexer": "ipython3",
   "version": "3.8.8"
  }
 },
 "nbformat": 4,
 "nbformat_minor": 5
}

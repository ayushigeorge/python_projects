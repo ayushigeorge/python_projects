{
 "cells": [
  {
   "cell_type": "markdown",
   "id": "16c5ad94",
   "metadata": {},
   "source": [
    "# Day 8&9\n",
    "Classes & Objects in python\n"
   ]
  },
  {
   "cell_type": "markdown",
   "id": "37718bf3",
   "metadata": {},
   "source": [
    "class is group of object"
   ]
  },
  {
   "cell_type": "markdown",
   "id": "2f2222bf",
   "metadata": {},
   "source": [
    "# Creating class"
   ]
  },
  {
   "cell_type": "code",
   "execution_count": 1,
   "id": "3429e819",
   "metadata": {},
   "outputs": [],
   "source": [
    "class info:\n",
    "    name = \"Ayushi\""
   ]
  },
  {
   "cell_type": "markdown",
   "id": "d1eef40e",
   "metadata": {},
   "source": [
    "# Creating Objects"
   ]
  },
  {
   "cell_type": "markdown",
   "id": "4582161a",
   "metadata": {},
   "source": [
    "objects are the run time entity"
   ]
  },
  {
   "cell_type": "code",
   "execution_count": 2,
   "id": "f6fc4b3b",
   "metadata": {},
   "outputs": [
    {
     "name": "stdout",
     "output_type": "stream",
     "text": [
      "Ayushi\n"
     ]
    }
   ],
   "source": [
    "class info:\n",
    "    print(info.name)"
   ]
  },
  {
   "cell_type": "markdown",
   "id": "53dda30c",
   "metadata": {},
   "source": [
    "Create a class named Person, use the __init__() function to assign values for name and age:"
   ]
  },
  {
   "cell_type": "code",
   "execution_count": 8,
   "id": "315cf1c8",
   "metadata": {},
   "outputs": [
    {
     "name": "stdout",
     "output_type": "stream",
     "text": [
      "Ayushi\n",
      "20\n"
     ]
    }
   ],
   "source": [
    "class person:\n",
    "    #to make class we need init build in function\n",
    "    def __init__(self,name ,age):\n",
    "        self.name = name\n",
    "        self.age =age\n",
    "info=person(\"Ayushi\",20)\n",
    "    \n",
    "print(info.name)\n",
    "print(info.age)\n",
    "    "
   ]
  },
  {
   "cell_type": "code",
   "execution_count": 6,
   "id": "8e9ed907",
   "metadata": {},
   "outputs": [
    {
     "name": "stdout",
     "output_type": "stream",
     "text": [
      "John\n",
      "36\n"
     ]
    }
   ],
   "source": [
    "class Person:\n",
    "  def __init__(self, name, age):\n",
    "    self.name = name\n",
    "    self.age = age\n",
    "\n",
    "p1 = Person(\"John\", 36)\n",
    "\n",
    "print(p1.name)\n",
    "print(p1.age)"
   ]
  },
  {
   "cell_type": "markdown",
   "id": "6700deba",
   "metadata": {},
   "source": [
    "Insert a function that prints a greeting, and execute it on the p1 object:"
   ]
  },
  {
   "cell_type": "code",
   "execution_count": 17,
   "id": "0125b6bf",
   "metadata": {},
   "outputs": [
    {
     "name": "stdout",
     "output_type": "stream",
     "text": [
      "hi, good morning ayushi \n"
     ]
    }
   ],
   "source": [
    "class person:\n",
    "    def __init__(self, name, age):\n",
    "        self.name = name\n",
    "        self.age = age\n",
    "    def myfunc(self):\n",
    "        print(\"hi, good morning \" + self.name)\n",
    "p1 = person(\"ayushi \", 20)\n",
    "p1.myfunc()"
   ]
  },
  {
   "cell_type": "code",
   "execution_count": null,
   "id": "ba59f2d5",
   "metadata": {},
   "outputs": [],
   "source": []
  }
 ],
 "metadata": {
  "kernelspec": {
   "display_name": "Python 3",
   "language": "python",
   "name": "python3"
  },
  "language_info": {
   "codemirror_mode": {
    "name": "ipython",
    "version": 3
   },
   "file_extension": ".py",
   "mimetype": "text/x-python",
   "name": "python",
   "nbconvert_exporter": "python",
   "pygments_lexer": "ipython3",
   "version": "3.8.8"
  }
 },
 "nbformat": 4,
 "nbformat_minor": 5
}

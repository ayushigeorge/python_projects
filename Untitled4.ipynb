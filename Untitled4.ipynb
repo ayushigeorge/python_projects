{
 "cells": [
  {
   "cell_type": "markdown",
   "id": "b9c20be2",
   "metadata": {},
   "source": [
    "# DAY 1 - 100 DAYS OF CODE\n",
    " PROGRAM ON VARIABLES - LOCAL AND GLOBAL "
   ]
  },
  {
   "cell_type": "code",
   "execution_count": 10,
   "id": "c8d1bd4a",
   "metadata": {},
   "outputs": [],
   "source": [
    "#Marksheet of student"
   ]
  },
  {
   "cell_type": "code",
   "execution_count": 12,
   "id": "90dde9ec",
   "metadata": {},
   "outputs": [
    {
     "name": "stdout",
     "output_type": "stream",
     "text": [
      "branch:  aids\n"
     ]
    }
   ],
   "source": [
    "stream = \"ai\" \n",
    "def f():\n",
    "    global stream\n",
    "    stream = stream + \"ds\"\n",
    "    rollno = \"23\"\n",
    "    \n",
    "f()\n",
    "print(\"branch: \", stream)\n",
    "    "
   ]
  },
  {
   "cell_type": "code",
   "execution_count": null,
   "id": "89f832ea",
   "metadata": {},
   "outputs": [],
   "source": []
  }
 ],
 "metadata": {
  "kernelspec": {
   "display_name": "Python 3",
   "language": "python",
   "name": "python3"
  },
  "language_info": {
   "codemirror_mode": {
    "name": "ipython",
    "version": 3
   },
   "file_extension": ".py",
   "mimetype": "text/x-python",
   "name": "python",
   "nbconvert_exporter": "python",
   "pygments_lexer": "ipython3",
   "version": "3.8.8"
  }
 },
 "nbformat": 4,
 "nbformat_minor": 5
}

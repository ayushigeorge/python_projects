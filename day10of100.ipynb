{
 "cells": [
  {
   "cell_type": "markdown",
   "id": "52deeb30",
   "metadata": {},
   "source": [
    "# Day 10 of 100\n",
    "array in python\n"
   ]
  },
  {
   "cell_type": "markdown",
   "id": "726a92e7",
   "metadata": {},
   "source": [
    "Array are the collection of similar datatypes"
   ]
  },
  {
   "cell_type": "code",
   "execution_count": 4,
   "id": "dad7517c",
   "metadata": {},
   "outputs": [
    {
     "name": "stdout",
     "output_type": "stream",
     "text": [
      "Aditi\n"
     ]
    }
   ],
   "source": [
    "info = [\"Ayushi\", \"Alisha\", \"Aditi\", \"Anglyn\"]\n",
    "x= info[2]\n",
    "print(x)"
   ]
  },
  {
   "cell_type": "code",
   "execution_count": 6,
   "id": "6a0e2972",
   "metadata": {},
   "outputs": [
    {
     "name": "stdout",
     "output_type": "stream",
     "text": [
      "['Ayushi', 'Alisha', 'Kesia', 'Anglyn']\n"
     ]
    }
   ],
   "source": [
    "info[2]= \"Kesia\"\n",
    "print(info)"
   ]
  },
  {
   "cell_type": "code",
   "execution_count": 7,
   "id": "999cd397",
   "metadata": {},
   "outputs": [
    {
     "name": "stdout",
     "output_type": "stream",
     "text": [
      "4\n"
     ]
    }
   ],
   "source": [
    "y= len(info)\n",
    "print(y)"
   ]
  },
  {
   "cell_type": "markdown",
   "id": "89072e29",
   "metadata": {},
   "source": [
    "### Looping the arrays\n"
   ]
  },
  {
   "cell_type": "code",
   "execution_count": 8,
   "id": "a26a8c67",
   "metadata": {},
   "outputs": [
    {
     "name": "stdout",
     "output_type": "stream",
     "text": [
      "['Ayushi', 'Alisha', 'Kesia', 'Anglyn']\n",
      "['Ayushi', 'Alisha', 'Kesia', 'Anglyn']\n",
      "['Ayushi', 'Alisha', 'Kesia', 'Anglyn']\n",
      "['Ayushi', 'Alisha', 'Kesia', 'Anglyn']\n"
     ]
    }
   ],
   "source": [
    "for x in info:\n",
    "    print(info)"
   ]
  },
  {
   "cell_type": "code",
   "execution_count": 12,
   "id": "06f250d9",
   "metadata": {},
   "outputs": [
    {
     "name": "stdout",
     "output_type": "stream",
     "text": [
      "['Ayushi', 'Alisha', 'Kesia', 'Anglyn', 'steffi', 'steffi', 'steffi']\n"
     ]
    }
   ],
   "source": [
    "info.append(\"steffi\")\n",
    "print(info)"
   ]
  },
  {
   "cell_type": "code",
   "execution_count": 15,
   "id": "3c6c62dd",
   "metadata": {},
   "outputs": [
    {
     "name": "stdout",
     "output_type": "stream",
     "text": [
      "['Ayushi', 'Alisha', 'Kesia', 'Anglyn', 'steffi']\n"
     ]
    }
   ],
   "source": [
    "info.pop(5)\n",
    "print(info)"
   ]
  },
  {
   "cell_type": "code",
   "execution_count": 16,
   "id": "df4f4251",
   "metadata": {},
   "outputs": [
    {
     "name": "stdout",
     "output_type": "stream",
     "text": [
      "['Ayushi', 'Alisha', 'Kesia', 'Anglyn']\n"
     ]
    }
   ],
   "source": [
    "info.remove(\"steffi\")\n",
    "print(info)"
   ]
  },
  {
   "cell_type": "code",
   "execution_count": null,
   "id": "66ea7de6",
   "metadata": {},
   "outputs": [],
   "source": []
  }
 ],
 "metadata": {
  "kernelspec": {
   "display_name": "Python 3",
   "language": "python",
   "name": "python3"
  },
  "language_info": {
   "codemirror_mode": {
    "name": "ipython",
    "version": 3
   },
   "file_extension": ".py",
   "mimetype": "text/x-python",
   "name": "python",
   "nbconvert_exporter": "python",
   "pygments_lexer": "ipython3",
   "version": "3.8.8"
  }
 },
 "nbformat": 4,
 "nbformat_minor": 5
}

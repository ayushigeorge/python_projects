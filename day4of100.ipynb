{
 "cells": [
  {
   "cell_type": "markdown",
   "id": "6b373a59",
   "metadata": {},
   "source": [
    "# Day 4 of 100\n",
    "Lists in python"
   ]
  },
  {
   "cell_type": "markdown",
   "id": "a565e694",
   "metadata": {},
   "source": [
    "Lists are similar to array, are iterable and has index value for all numbers.\n",
    "have [] operator."
   ]
  },
  {
   "cell_type": "markdown",
   "id": "0cb3c3e7",
   "metadata": {},
   "source": [
    "q. keep adding numbers to string and fill variable second_name in the name list using []."
   ]
  },
  {
   "cell_type": "code",
   "execution_count": 6,
   "id": "2071cef0",
   "metadata": {},
   "outputs": [
    {
     "name": "stdout",
     "output_type": "stream",
     "text": [
      "[1, 2, 3]\n",
      "['a', 'b', 'c']\n",
      "the second name on the name list is ['george', 'edwin', 'masih']\n"
     ]
    }
   ],
   "source": [
    "num =[1,2,3]\n",
    "string= ['a', 'b', 'c']\n",
    "names =[\"Ayushi\", \"aditi\", \"alisha\"]\n",
    "second_name = [\"george\", \"edwin\", \"masih\"]\n",
    "print(num)\n",
    "print(string)\n",
    "print(\"the second name on the name list is %s\" %second_name)"
   ]
  },
  {
   "cell_type": "markdown",
   "id": "ae2f324c",
   "metadata": {},
   "source": [
    "method one .append to add elements"
   ]
  },
  {
   "cell_type": "code",
   "execution_count": 15,
   "id": "8022b3ec",
   "metadata": {},
   "outputs": [
    {
     "name": "stdout",
     "output_type": "stream",
     "text": [
      "['Ayushi', 'aditi', 'alisha', 'anglyn']\n"
     ]
    }
   ],
   "source": [
    "name =[\"Ayushi\", \"aditi\", \"alisha\"]\n",
    "#name =[]\n",
    "name.append(\"anglyn\")\n",
    "print(name)"
   ]
  },
  {
   "cell_type": "code",
   "execution_count": 16,
   "id": "ae33d86a",
   "metadata": {},
   "outputs": [
    {
     "name": "stdout",
     "output_type": "stream",
     "text": [
      "4\n"
     ]
    }
   ],
   "source": [
    "#to print its length \n",
    "names =[\"Ayushi\", \"aditi\", \"alisha\"]\n",
    "print(len(name))"
   ]
  },
  {
   "cell_type": "code",
   "execution_count": 17,
   "id": "ced525c5",
   "metadata": {},
   "outputs": [
    {
     "name": "stdout",
     "output_type": "stream",
     "text": [
      "['Ayushi', 'aditi', 'alisha']\n"
     ]
    }
   ],
   "source": [
    "#list constructor\n",
    "names =list((\"Ayushi\", \"aditi\", \"alisha\"))\n",
    "print(names)"
   ]
  },
  {
   "cell_type": "code",
   "execution_count": 18,
   "id": "a07a6c90",
   "metadata": {},
   "outputs": [
    {
     "name": "stdout",
     "output_type": "stream",
     "text": [
      "<class 'list'>\n"
     ]
    }
   ],
   "source": [
    "#to find type of list\n",
    "names =[\"Ayushi\", \"aditi\", \"alisha\"]\n",
    "print(type(names))"
   ]
  },
  {
   "cell_type": "code",
   "execution_count": null,
   "id": "c14b5e44",
   "metadata": {},
   "outputs": [],
   "source": []
  }
 ],
 "metadata": {
  "kernelspec": {
   "display_name": "Python 3",
   "language": "python",
   "name": "python3"
  },
  "language_info": {
   "codemirror_mode": {
    "name": "ipython",
    "version": 3
   },
   "file_extension": ".py",
   "mimetype": "text/x-python",
   "name": "python",
   "nbconvert_exporter": "python",
   "pygments_lexer": "ipython3",
   "version": "3.8.8"
  }
 },
 "nbformat": 4,
 "nbformat_minor": 5
}

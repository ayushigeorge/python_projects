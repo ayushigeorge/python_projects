{
 "cells": [
  {
   "cell_type": "markdown",
   "id": "b6c6ca73",
   "metadata": {},
   "source": [
    "# Day 6 of 100\n",
    "Linked List in python\n"
   ]
  },
  {
   "cell_type": "markdown",
   "id": "d78cb6b8",
   "metadata": {},
   "source": [
    "LinkedList are sequential arrangement of data, which has nodes that stores address of the next data.\n",
    "Today , I have created LinkedList, and performed basic functions like:\n",
    "0. creating a linkedlist\n",
    "1. traversing a linkedlist\n",
    "2. inserting a linkedlist\n",
    "3. insert between two nodes\n",
    "4. deleting node in a linkedlist"
   ]
  },
  {
   "cell_type": "markdown",
   "id": "e0f460ed",
   "metadata": {},
   "source": [
    "## Creating linked List "
   ]
  },
  {
   "cell_type": "code",
   "execution_count": 14,
   "id": "eb6fc842",
   "metadata": {},
   "outputs": [],
   "source": [
    "#create class\n",
    "class Node :\n",
    "    #create constructor\n",
    "    def  __init__(self, dataval= None):\n",
    "        self.dataval = dataval\n",
    "        self.nextval = None\n",
    "    \n",
    "class linkedlist :\n",
    "    def  __init__(self):\n",
    "        self.headval =None\n",
    "    \n",
    "list1 = linkedlist()\n",
    "list1.headval = Node(\"Ayushi\")\n",
    "a2 = Node(\"Aditi\")\n",
    "a3 = Node(\"Alisha\")\n",
    "a4 = Node(\"Anglyn\")\n",
    "\n",
    "#connecting a2 to head node\n",
    "list1.headval.nextval = a2\n",
    "\n",
    "#connecting a3 to a2\n",
    "a2.nextval = a3"
   ]
  },
  {
   "cell_type": "markdown",
   "id": "f768f29a",
   "metadata": {},
   "source": [
    "## Traversing LinkedList"
   ]
  },
  {
   "cell_type": "code",
   "execution_count": 25,
   "id": "d387d3ff",
   "metadata": {},
   "outputs": [
    {
     "name": "stdout",
     "output_type": "stream",
     "text": [
      "Ayushi\n",
      "Aditi\n",
      "Anglyn\n",
      "Alisha\n"
     ]
    }
   ],
   "source": [
    "class Node:\n",
    "    def __init__(self, dataval = None):\n",
    "        self.dataval = dataval\n",
    "        self.nextval = None\n",
    "class linkedlist :\n",
    "    def __init__(self):\n",
    "        self.headval= None\n",
    "        #printing the linkedlist\n",
    "    def listprint(self):\n",
    "        printval = self.headval\n",
    "        while printval is not None:\n",
    "            print (printval.dataval)\n",
    "            printval = printval.nextval\n",
    "        \n",
    "        \n",
    "list =linkedlist()\n",
    "list.headval= Node(\"Ayushi\")\n",
    "a2 = Node(\"Aditi\")\n",
    "a3 = Node(\"Anglyn\")\n",
    "a4 = Node(\"Alisha\")\n",
    "list.headval.nextval = a2\n",
    "a2.nextval =a3\n",
    "a3.nextval =a4\n",
    "\n",
    "#traversing\n",
    "list.listprint()"
   ]
  },
  {
   "cell_type": "markdown",
   "id": "ff0d295f",
   "metadata": {},
   "source": [
    "## Inserting in LinkedList "
   ]
  },
  {
   "cell_type": "markdown",
   "id": "eda37b75",
   "metadata": {},
   "source": [
    "A) In Beginning"
   ]
  },
  {
   "cell_type": "code",
   "execution_count": 57,
   "id": "930e9279",
   "metadata": {},
   "outputs": [
    {
     "ename": "NameError",
     "evalue": "name 'listprint' is not defined",
     "output_type": "error",
     "traceback": [
      "\u001b[1;31m---------------------------------------------------------------------------\u001b[0m",
      "\u001b[1;31mNameError\u001b[0m                                 Traceback (most recent call last)",
      "\u001b[1;32m<ipython-input-57-78bcc361b504>\u001b[0m in \u001b[0;36m<module>\u001b[1;34m\u001b[0m\n\u001b[0;32m     18\u001b[0m \u001b[1;31m# Update the new nodes next val to existing node\u001b[0m\u001b[1;33m\u001b[0m\u001b[1;33m\u001b[0m\u001b[1;33m\u001b[0m\u001b[0m\n\u001b[0;32m     19\u001b[0m    \u001b[1;31m#NewNode.nextval = self.headval\u001b[0m\u001b[1;33m\u001b[0m\u001b[1;33m\u001b[0m\u001b[1;33m\u001b[0m\u001b[0m\n\u001b[1;32m---> 20\u001b[1;33m \u001b[1;32mif\u001b[0m \u001b[0mlistprint\u001b[0m\u001b[1;33m==\u001b[0m\u001b[1;32mNone\u001b[0m\u001b[1;33m:\u001b[0m\u001b[1;33m\u001b[0m\u001b[1;33m\u001b[0m\u001b[0m\n\u001b[0m\u001b[0;32m     21\u001b[0m             \u001b[0mself\u001b[0m\u001b[1;33m.\u001b[0m\u001b[0mprintval\u001b[0m\u001b[1;33m=\u001b[0m\u001b[0mself\u001b[0m\u001b[1;33m.\u001b[0m\u001b[0mprintval\u001b[0m\u001b[1;33m\u001b[0m\u001b[1;33m\u001b[0m\u001b[0m\n\u001b[0;32m     22\u001b[0m \u001b[1;32melse\u001b[0m\u001b[1;33m:\u001b[0m\u001b[1;33m\u001b[0m\u001b[1;33m\u001b[0m\u001b[0m\n",
      "\u001b[1;31mNameError\u001b[0m: name 'listprint' is not defined"
     ]
    }
   ],
   "source": [
    "class Node:\n",
    "    def __init__(self,dataval):\n",
    "        self.dataval= dataval\n",
    "        self.nextval = None\n",
    "\n",
    "class linkedlist:\n",
    "   def __init__(self):\n",
    "      self.headval = None\n",
    "# Print the linked list\n",
    "   def listprint(self):\n",
    "      printval = self.headval\n",
    "      while printval is not None:\n",
    "         print (printval.dataval)\n",
    "         printval = printval.nextval\n",
    "   def AtBegining(self,newdata= None):\n",
    "      NewNode = Node(newdata)\n",
    "\n",
    "# Update the new nodes next val to existing node\n",
    "   #NewNode.nextval = self.headval\n",
    "if listprint==None:\n",
    "            self.printval=self.printval\n",
    "else:\n",
    "             \n",
    "            printval = printval.nextval\n",
    "            print (printval.dataval)\n",
    "            \n",
    "self.headval = NewNode\n",
    "\n",
    "\n",
    "list = linkedlist()\n",
    "list.headval =Node(\"Ayushi\")\n",
    "a2= Node(\"ALisha\")\n",
    "a3 = Node(\"Anglyn\")\n",
    "a4 =Node(\"Aditi\")\n",
    "\n",
    "list.headval.nextval =a2\n",
    "a2.nextval =a3\n",
    "a3.nextval =a4\n",
    "list.AtBeginning(\"Ashish\")\n",
    "list.listprint()"
   ]
  },
  {
   "cell_type": "code",
   "execution_count": 43,
   "id": "da93c438",
   "metadata": {},
   "outputs": [
    {
     "ename": "NameError",
     "evalue": "name 'self' is not defined",
     "output_type": "error",
     "traceback": [
      "\u001b[1;31m---------------------------------------------------------------------------\u001b[0m",
      "\u001b[1;31mNameError\u001b[0m                                 Traceback (most recent call last)",
      "\u001b[1;32m<ipython-input-43-6927b861a814>\u001b[0m in \u001b[0;36m<module>\u001b[1;34m\u001b[0m\n\u001b[0;32m      4\u001b[0m       \u001b[0mself\u001b[0m\u001b[1;33m.\u001b[0m\u001b[0mnextval\u001b[0m \u001b[1;33m=\u001b[0m \u001b[1;32mNone\u001b[0m\u001b[1;33m\u001b[0m\u001b[1;33m\u001b[0m\u001b[0m\n\u001b[0;32m      5\u001b[0m \u001b[1;33m\u001b[0m\u001b[0m\n\u001b[1;32m----> 6\u001b[1;33m \u001b[1;32mclass\u001b[0m \u001b[0mSLinkedList\u001b[0m\u001b[1;33m:\u001b[0m\u001b[1;33m\u001b[0m\u001b[1;33m\u001b[0m\u001b[0m\n\u001b[0m\u001b[0;32m      7\u001b[0m    \u001b[1;32mdef\u001b[0m \u001b[0m__init__\u001b[0m\u001b[1;33m(\u001b[0m\u001b[0mself\u001b[0m\u001b[1;33m)\u001b[0m\u001b[1;33m:\u001b[0m\u001b[1;33m\u001b[0m\u001b[1;33m\u001b[0m\u001b[0m\n\u001b[0;32m      8\u001b[0m       \u001b[0mself\u001b[0m\u001b[1;33m.\u001b[0m\u001b[0mheadval\u001b[0m \u001b[1;33m=\u001b[0m \u001b[1;32mNone\u001b[0m\u001b[1;33m\u001b[0m\u001b[1;33m\u001b[0m\u001b[0m\n",
      "\u001b[1;32m<ipython-input-43-6927b861a814>\u001b[0m in \u001b[0;36mSLinkedList\u001b[1;34m()\u001b[0m\n\u001b[0;32m     17\u001b[0m \u001b[1;33m\u001b[0m\u001b[0m\n\u001b[0;32m     18\u001b[0m \u001b[1;31m# Update the new nodes next val to existing node\u001b[0m\u001b[1;33m\u001b[0m\u001b[1;33m\u001b[0m\u001b[1;33m\u001b[0m\u001b[0m\n\u001b[1;32m---> 19\u001b[1;33m    \u001b[0mNewNode\u001b[0m\u001b[1;33m.\u001b[0m\u001b[0mnextval\u001b[0m \u001b[1;33m=\u001b[0m \u001b[0mself\u001b[0m\u001b[1;33m.\u001b[0m\u001b[0mheadval\u001b[0m\u001b[1;33m\u001b[0m\u001b[1;33m\u001b[0m\u001b[0m\n\u001b[0m\u001b[0;32m     20\u001b[0m    \u001b[0mself\u001b[0m\u001b[1;33m.\u001b[0m\u001b[0mheadval\u001b[0m \u001b[1;33m=\u001b[0m \u001b[0mNewNode\u001b[0m\u001b[1;33m\u001b[0m\u001b[1;33m\u001b[0m\u001b[0m\n\u001b[0;32m     21\u001b[0m \u001b[1;33m\u001b[0m\u001b[0m\n",
      "\u001b[1;31mNameError\u001b[0m: name 'self' is not defined"
     ]
    }
   ],
   "source": [
    "class Node:\n",
    "   def __init__(self, dataval=None):\n",
    "      self.dataval = dataval\n",
    "      self.nextval = None\n",
    "\n",
    "class SLinkedList:\n",
    "   def __init__(self):\n",
    "      self.headval = None\n",
    "# Print the linked list\n",
    "   def listprint(self):\n",
    "      printval = self.headval\n",
    "      while printval is not None:\n",
    "         print (printval.dataval)\n",
    "         printval = printval.nextval\n",
    "   def AtBegining(self,newdata):\n",
    "      NewNode = Node(newdata)\n",
    "\n",
    "# Update the new nodes next val to existing node\n",
    "   NewNode.nextval = self.headval\n",
    "   self.headval = NewNode\n",
    "\n",
    "list = SLinkedList()\n",
    "list.headval = Node(\"Ayushi\")\n",
    "a2 = Node(\"Aditi\")\n",
    "a3 = Node(\"Anglyn\")\n",
    "\n",
    "list.headval.nextval = a2\n",
    "a2.nextval = a3\n",
    "\n",
    "list.AtBegining(\"Alisha\")\n",
    "list.listprint()\n"
   ]
  },
  {
   "cell_type": "code",
   "execution_count": null,
   "id": "2d43c60c",
   "metadata": {},
   "outputs": [],
   "source": []
  }
 ],
 "metadata": {
  "kernelspec": {
   "display_name": "Python 3",
   "language": "python",
   "name": "python3"
  },
  "language_info": {
   "codemirror_mode": {
    "name": "ipython",
    "version": 3
   },
   "file_extension": ".py",
   "mimetype": "text/x-python",
   "name": "python",
   "nbconvert_exporter": "python",
   "pygments_lexer": "ipython3",
   "version": "3.8.8"
  }
 },
 "nbformat": 4,
 "nbformat_minor": 5
}

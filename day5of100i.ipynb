{
 "cells": [
  {
   "cell_type": "markdown",
   "id": "93a4b4fc",
   "metadata": {},
   "source": [
    "# Day 5 of 100\n",
    "type conversion in python\n"
   ]
  },
  {
   "cell_type": "markdown",
   "id": "337372e9",
   "metadata": {},
   "source": [
    "Type conversion refers to change the type of the data from one to another form, int-> float, float \n",
    "->int, complex ->int"
   ]
  },
  {
   "cell_type": "code",
   "execution_count": 1,
   "id": "16e51179",
   "metadata": {},
   "outputs": [
    {
     "name": "stdout",
     "output_type": "stream",
     "text": [
      "2.0\n",
      "4\n",
      "(4.5+0j)\n",
      "(2+0j)\n",
      "<class 'float'>\n",
      "<class 'int'>\n",
      "<class 'complex'>\n"
     ]
    }
   ],
   "source": [
    "x= 2\n",
    "y= 4.5\n",
    "z= 3+5j\n",
    "\n",
    "#converting int in float\n",
    "a =float(x)\n",
    "print(a)\n",
    "\n",
    "#converting float in int\n",
    "b = int(y)\n",
    "print(b)\n",
    "\n",
    "#converting float into copmplex\n",
    "d= complex(y)\n",
    "print(d)\n",
    "\n",
    "#converting int into complex\n",
    "c= complex(x)\n",
    "print(c)\n",
    "\n",
    "print(type(a))\n",
    "print(type(b))\n",
    "print(type(c))\n",
    "\n",
    "#we can't chanfe complex to another data type."
   ]
  },
  {
   "cell_type": "code",
   "execution_count": 4,
   "id": "28a3e742",
   "metadata": {},
   "outputs": [
    {
     "name": "stdout",
     "output_type": "stream",
     "text": [
      "8\n"
     ]
    }
   ],
   "source": [
    "#importing random number \n",
    "#RANDOM is a python library\n",
    "import random\n",
    "\n",
    "print(random.randrange(1, 10))"
   ]
  },
  {
   "cell_type": "code",
   "execution_count": null,
   "id": "6f0a4898",
   "metadata": {},
   "outputs": [],
   "source": []
  },
  {
   "cell_type": "code",
   "execution_count": null,
   "id": "e0023e1a",
   "metadata": {},
   "outputs": [],
   "source": []
  }
 ],
 "metadata": {
  "kernelspec": {
   "display_name": "Python 3",
   "language": "python",
   "name": "python3"
  },
  "language_info": {
   "codemirror_mode": {
    "name": "ipython",
    "version": 3
   },
   "file_extension": ".py",
   "mimetype": "text/x-python",
   "name": "python",
   "nbconvert_exporter": "python",
   "pygments_lexer": "ipython3",
   "version": "3.8.8"
  }
 },
 "nbformat": 4,
 "nbformat_minor": 5
}

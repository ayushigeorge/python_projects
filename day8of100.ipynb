{
 "cells": [
  {
   "cell_type": "markdown",
   "id": "daf8d04c",
   "metadata": {},
   "source": [
    "# Day 8 of 100\n",
    "Tuples in Python"
   ]
  },
  {
   "cell_type": "markdown",
   "id": "05264df7",
   "metadata": {},
   "source": [
    "TUPLES are the arrangement of data in python, it is different from list and array as \n",
    "it has Round Bracket ,\n",
    "ordered\n",
    "and are unchangable."
   ]
  },
  {
   "cell_type": "code",
   "execution_count": 1,
   "id": "6ddd4e16",
   "metadata": {},
   "outputs": [
    {
     "name": "stdout",
     "output_type": "stream",
     "text": [
      "('apple', 'banana', 'grapes')\n"
     ]
    }
   ],
   "source": [
    "tuple = (\"apple\" , \"banana\", \"grapes\")\n",
    "print(tuple)"
   ]
  },
  {
   "cell_type": "code",
   "execution_count": 2,
   "id": "82b04d87",
   "metadata": {},
   "outputs": [
    {
     "name": "stdout",
     "output_type": "stream",
     "text": [
      "('apple', 'grapes', 'banana', 'apple')\n"
     ]
    }
   ],
   "source": [
    "#allow duplicate values\n",
    "tuple = (\"apple\", \"grapes\" , \"banana\", \"apple\")\n",
    "print(tuple)"
   ]
  },
  {
   "cell_type": "code",
   "execution_count": 3,
   "id": "9b1ce2b6",
   "metadata": {},
   "outputs": [
    {
     "name": "stdout",
     "output_type": "stream",
     "text": [
      "3\n"
     ]
    }
   ],
   "source": [
    "#to find the length of tuple\n",
    "tuple = (\"apple\", \"banana\" , \"cherry\")\n",
    "print(len(tuple))"
   ]
  },
  {
   "cell_type": "code",
   "execution_count": 5,
   "id": "ed6fe40f",
   "metadata": {},
   "outputs": [
    {
     "name": "stdout",
     "output_type": "stream",
     "text": [
      "<class 'tuple'>\n",
      "<class 'str'>\n"
     ]
    }
   ],
   "source": [
    "tuple = (\"apple\",) #comma is compulsary\n",
    "print(type(tuple))\n",
    "\n",
    "#NOT a tuple\n",
    "tuple = (\"apple\")\n",
    "print(type(tuple))"
   ]
  },
  {
   "cell_type": "code",
   "execution_count": null,
   "id": "96a85925",
   "metadata": {},
   "outputs": [],
   "source": []
  }
 ],
 "metadata": {
  "kernelspec": {
   "display_name": "Python 3",
   "language": "python",
   "name": "python3"
  },
  "language_info": {
   "codemirror_mode": {
    "name": "ipython",
    "version": 3
   },
   "file_extension": ".py",
   "mimetype": "text/x-python",
   "name": "python",
   "nbconvert_exporter": "python",
   "pygments_lexer": "ipython3",
   "version": "3.8.8"
  }
 },
 "nbformat": 4,
 "nbformat_minor": 5
}

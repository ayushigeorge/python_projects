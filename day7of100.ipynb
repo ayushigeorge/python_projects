{
 "cells": [
  {
   "cell_type": "markdown",
   "id": "dd816508",
   "metadata": {},
   "source": [
    "# Day 7 of 100"
   ]
  },
  {
   "cell_type": "markdown",
   "id": "ac0d8aa7",
   "metadata": {},
   "source": [
    "Practise Day!"
   ]
  },
  {
   "cell_type": "markdown",
   "id": "6ec5acda",
   "metadata": {},
   "source": [
    "resource: https://anandology.com/python-practice-book/getting-started.html#writing-custom-functions"
   ]
  },
  {
   "cell_type": "markdown",
   "id": "1b63b683",
   "metadata": {},
   "source": [
    "functions customised"
   ]
  },
  {
   "cell_type": "code",
   "execution_count": 17,
   "id": "cbf87c64",
   "metadata": {},
   "outputs": [],
   "source": [
    "def square(x):\n",
    "    return x*x\n",
    "    square(5)\n",
    "    sqaure(3) + sqaure(2)\n",
    "    sqaure(square(5))\n",
    "\n",
    "    def sum_of_sqaures(x,y):\n",
    "        return sqaure(x) +square(y)\n",
    "    sum_of_sqaures(2,3)\n",
    "\n",
    "    def sqaure(f):\n",
    "        f = square\n",
    "        f(4)\n",
    "    def fxy(f,x,y):\n",
    "        return f(x) + f(y)\n",
    "    fxy(sqare,2,3)\n",
    "    print(x,y)"
   ]
  },
  {
   "cell_type": "code",
   "execution_count": 18,
   "id": "b24138b2",
   "metadata": {},
   "outputs": [
    {
     "name": "stdout",
     "output_type": "stream",
     "text": [
      "0 0\n"
     ]
    }
   ],
   "source": [
    "x=0\n",
    "y=0\n",
    "\n",
    "def inc(x):\n",
    "    y=x+1\n",
    "    return y\n",
    "inc(5)\n",
    "print(x,y)\n",
    "    "
   ]
  },
  {
   "cell_type": "markdown",
   "id": "1896a7df",
   "metadata": {},
   "source": [
    "Problem 2: How many multiplications are performed when each of the following lines of code is executed?\n"
   ]
  },
  {
   "cell_type": "code",
   "execution_count": 23,
   "id": "2e9c63a5",
   "metadata": {},
   "outputs": [],
   "source": [
    "print square(5)  //1\n",
    "print square(2*5)  //5"
   ]
  },
  {
   "cell_type": "code",
   "execution_count": null,
   "id": "d56b79fe",
   "metadata": {},
   "outputs": [],
   "source": [
    "Output defined questions"
   ]
  },
  {
   "cell_type": "code",
   "execution_count": 25,
   "id": "a934ab41",
   "metadata": {},
   "outputs": [
    {
     "name": "stdout",
     "output_type": "stream",
     "text": [
      "1\n",
      "1\n"
     ]
    }
   ],
   "source": [
    "x=1\n",
    "def f(x):\n",
    "    return x\n",
    "print (x)\n",
    "print(f(x))"
   ]
  },
  {
   "cell_type": "code",
   "execution_count": 27,
   "id": "71f4b8a6",
   "metadata": {},
   "outputs": [
    {
     "name": "stdout",
     "output_type": "stream",
     "text": [
      "1\n",
      "2\n",
      "1\n"
     ]
    }
   ],
   "source": [
    "x = 1\n",
    "def f():\n",
    "    x = 2\n",
    "    return x\n",
    "print (x)\n",
    "print (f())\n",
    "print (x)"
   ]
  },
  {
   "cell_type": "code",
   "execution_count": 31,
   "id": "9ae97d18",
   "metadata": {},
   "outputs": [
    {
     "name": "stdout",
     "output_type": "stream",
     "text": [
      "1\n",
      "4\n",
      "1\n"
     ]
    }
   ],
   "source": [
    "x = 1\n",
    "def f():\n",
    "        \n",
    "        x = 2\n",
    "        y=x\n",
    "        return x + y\n",
    "print (x)\n",
    "print (f())\n",
    "print (x)\n",
    "#1,4,1"
   ]
  },
  {
   "cell_type": "code",
   "execution_count": 33,
   "id": "b4b3ff7f",
   "metadata": {},
   "outputs": [
    {
     "name": "stdout",
     "output_type": "stream",
     "text": [
      "2 9\n"
     ]
    }
   ],
   "source": [
    "x = 2\n",
    "def f(a):\n",
    "    x = a * a\n",
    "    return x\n",
    "y = f(3)\n",
    "print (x, y)\n",
    "\n",
    "#2,9"
   ]
  },
  {
   "cell_type": "code",
   "execution_count": null,
   "id": "e525115f",
   "metadata": {},
   "outputs": [],
   "source": []
  }
 ],
 "metadata": {
  "kernelspec": {
   "display_name": "Python 3",
   "language": "python",
   "name": "python3"
  },
  "language_info": {
   "codemirror_mode": {
    "name": "ipython",
    "version": 3
   },
   "file_extension": ".py",
   "mimetype": "text/x-python",
   "name": "python",
   "nbconvert_exporter": "python",
   "pygments_lexer": "ipython3",
   "version": "3.8.8"
  }
 },
 "nbformat": 4,
 "nbformat_minor": 5
}
